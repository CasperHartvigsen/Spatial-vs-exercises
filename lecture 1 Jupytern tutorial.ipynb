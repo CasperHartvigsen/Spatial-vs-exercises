{
 "cells": [
  {
   "cell_type": "code",
   "execution_count": 7,
   "metadata": {},
   "outputs": [
    {
     "data": {
      "text/plain": [
       "3.0"
      ]
     },
     "execution_count": 7,
     "metadata": {},
     "output_type": "execute_result"
    }
   ],
   "source": [
    "float(3)\n"
   ]
  },
  {
   "cell_type": "code",
   "execution_count": 5,
   "metadata": {},
   "outputs": [
    {
     "data": {
      "text/plain": [
       "3"
      ]
     },
     "execution_count": 5,
     "metadata": {},
     "output_type": "execute_result"
    }
   ],
   "source": [
    "int(3.9)"
   ]
  },
  {
   "cell_type": "code",
   "execution_count": 8,
   "metadata": {},
   "outputs": [
    {
     "name": "stdout",
     "output_type": "stream",
     "text": [
      "hello world\n"
     ]
    }
   ],
   "source": [
    "print(\"hello world\")"
   ]
  },
  {
   "cell_type": "code",
   "execution_count": 23,
   "metadata": {},
   "outputs": [
    {
     "name": "stdout",
     "output_type": "stream",
     "text": [
      "<class 'int'>\n",
      "19\n"
     ]
    }
   ],
   "source": [
    "lect1Var = 11\n",
    "lect1Var = lect1Var + (17//2) #dividing gives float, double dividing gives int\n",
    "print(type(lect1Var))\n",
    "print(lect1Var)"
   ]
  },
  {
   "cell_type": "code",
   "execution_count": 25,
   "metadata": {},
   "outputs": [
    {
     "name": "stdout",
     "output_type": "stream",
     "text": [
      "<class 'int'>\n",
      "12\n"
     ]
    }
   ],
   "source": [
    "lect1Var = 11\n",
    "lect1Var = lect1Var + (17%2) #\n",
    "print(type(lect1Var))\n",
    "print(lect1Var)"
   ]
  },
  {
   "cell_type": "code",
   "execution_count": 32,
   "metadata": {},
   "outputs": [
    {
     "name": "stdout",
     "output_type": "stream",
     "text": [
      "<class 'float'>\n",
      "12.0\n"
     ]
    }
   ],
   "source": [
    "lect1Var = 11\n",
    "lect1Var2 = 12\n",
    "lect1Var = lect1Var + lect1Var2 * 10/20%5\n",
    "print(type(lect1Var))\n",
    "print(lect1Var)"
   ]
  },
  {
   "cell_type": "code",
   "execution_count": 34,
   "metadata": {},
   "outputs": [
    {
     "name": "stdout",
     "output_type": "stream",
     "text": [
      "<class 'int'>\n",
      "11\n"
     ]
    }
   ],
   "source": [
    "lect1Var = 11\n",
    "lect1Var2 = 12\n",
    "float(lect1Var)\n",
    "print(type(lect1Var))\n",
    "print(lect1Var)"
   ]
  },
  {
   "cell_type": "code",
   "execution_count": 35,
   "metadata": {},
   "outputs": [
    {
     "name": "stdout",
     "output_type": "stream",
     "text": [
      "<class 'int'>\n",
      "11\n"
     ]
    }
   ],
   "source": [
    "lect1Var = 11\n",
    "lect1Var2 = 12\n",
    "print(type(lect1Var))\n",
    "print(int(lect1Var))"
   ]
  },
  {
   "cell_type": "code",
   "execution_count": 37,
   "metadata": {},
   "outputs": [
    {
     "name": "stdout",
     "output_type": "stream",
     "text": [
      "<class 'float'>\n",
      "136\n",
      "136.89\n"
     ]
    }
   ],
   "source": [
    "lect1Var = 11.7\n",
    "lect1Var2 = 12\n",
    "print(type(lect1Var))\n",
    "print(int(lect1Var**2))\n",
    "print(lect1Var**2)"
   ]
  },
  {
   "cell_type": "code",
   "execution_count": 42,
   "metadata": {},
   "outputs": [
    {
     "name": "stdout",
     "output_type": "stream",
     "text": [
      "0.3\n",
      "0.30000000000000004\n",
      "False\n"
     ]
    }
   ],
   "source": [
    "num1 = 0.3\n",
    "num2 = 0.1 + 0.1 + 0.1\n",
    "print(num1)\n",
    "print(num2)     #problems with showing added decimals (floating point error)\n",
    "\n",
    "print(num1==num2)"
   ]
  },
  {
   "cell_type": "code",
   "execution_count": 54,
   "metadata": {},
   "outputs": [
    {
     "name": "stdout",
     "output_type": "stream",
     "text": [
      "The kelvin temperature 289 temperature in Celsius is 16\n"
     ]
    }
   ],
   "source": [
    "temp1=289\n",
    "tempCelsius = temp1-273\n",
    "strTemp = f'The kelvin temperature {temp1} temperature in Celsius is {tempCelsius}'\n",
    "print(strTemp)\n"
   ]
  },
  {
   "cell_type": "code",
   "execution_count": 77,
   "metadata": {},
   "outputs": [
    {
     "name": "stdout",
     "output_type": "stream",
     "text": [
      "<class 'str'>\n",
      "<class 'int'>\n",
      "The kelvin temperature 289 temperature in Celsius is 16\n"
     ]
    }
   ],
   "source": [
    "#temp1=289\n",
    "temp1 = input(\"Enter the temperature in Kelvin:\")\n",
    "print(type(temp1))\n",
    "temp1 = int(temp1)\n",
    "print(type(temp1))\n",
    "tempCelsius = temp1 -273\n",
    "strTemp = f'The kelvin temperature {temp1} temperature in Celsius is {tempCelsius}'\n",
    "print(strTemp)"
   ]
  },
  {
   "cell_type": "code",
   "execution_count": 82,
   "metadata": {},
   "outputs": [
    {
     "name": "stdout",
     "output_type": "stream",
     "text": [
      "<class 'int'>\n",
      "<class 'int'>\n",
      "289-273\n"
     ]
    }
   ],
   "source": [
    "temp1 = 289\n",
    "print(type(temp1))\n",
    "temp1 = int(temp1)\n",
    "print(type(temp1))\n",
    "temp2 = -273\n",
    "strtempCelsius = f'{temp1}{temp2}'\n",
    "print(strtempCelsius)\n"
   ]
  },
  {
   "cell_type": "code",
   "execution_count": 68,
   "metadata": {},
   "outputs": [
    {
     "name": "stdout",
     "output_type": "stream",
     "text": [
      "HELLO universe\n",
      "Uni\n",
      "-1\n",
      "3\n"
     ]
    }
   ],
   "source": [
    "strVar1= \"hello\"\n",
    "strVar2= \"Universe\"\n",
    "print(strVar1.upper()+' '+strVar2.lower())\n",
    "print(strVar2[0:3]) #prints from 0-3\n",
    "print(strVar2.find('c'))\n",
    "print(strVar2.find('v')) #number on where to find the letter"
   ]
  },
  {
   "cell_type": "code",
   "execution_count": 71,
   "metadata": {},
   "outputs": [
    {
     "name": "stdout",
     "output_type": "stream",
     "text": [
      "7\n"
     ]
    }
   ],
   "source": [
    "num3= 5\n",
    "num3 +=1\n",
    "print(num3)"
   ]
  },
  {
   "cell_type": "code",
   "execution_count": null,
   "metadata": {},
   "outputs": [],
   "source": []
  }
 ],
 "metadata": {
  "kernelspec": {
   "display_name": "Python 3",
   "language": "python",
   "name": "python3"
  },
  "language_info": {
   "codemirror_mode": {
    "name": "ipython",
    "version": 3
   },
   "file_extension": ".py",
   "mimetype": "text/x-python",
   "name": "python",
   "nbconvert_exporter": "python",
   "pygments_lexer": "ipython3",
   "version": "3.11.2"
  },
  "orig_nbformat": 4,
  "vscode": {
   "interpreter": {
    "hash": "d4e228eef0157a77d4c25cc9a11585fcc8946ae2a0166c576fe7922f37c5e36d"
   }
  }
 },
 "nbformat": 4,
 "nbformat_minor": 2
}
